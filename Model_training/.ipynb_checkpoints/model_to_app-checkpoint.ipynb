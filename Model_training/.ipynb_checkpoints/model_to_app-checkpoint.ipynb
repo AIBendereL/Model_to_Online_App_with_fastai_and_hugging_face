{
 "cells": [
  {
   "cell_type": "code",
   "execution_count": 1,
   "id": "2a42d41b",
   "metadata": {},
   "outputs": [],
   "source": [
    "import os"
   ]
  },
  {
   "cell_type": "code",
   "execution_count": 2,
   "id": "632f7ee6",
   "metadata": {},
   "outputs": [],
   "source": [
    "from fastai.vision.all import *\n",
    "from fastai.vision.widgets import *"
   ]
  },
  {
   "cell_type": "code",
   "execution_count": 3,
   "id": "6b26f6bb",
   "metadata": {},
   "outputs": [],
   "source": [
    "export_PATH = \"Learner/export.pkl\"\n",
    "\n",
    "learner_inf = load_learner(export_PATH)"
   ]
  },
  {
   "cell_type": "code",
   "execution_count": 4,
   "id": "eed8eb98",
   "metadata": {},
   "outputs": [
    {
     "data": {
      "text/html": [
       "\n",
       "<style>\n",
       "    /* Turns off some styling */\n",
       "    progress {\n",
       "        /* gets rid of default border in Firefox and Opera. */\n",
       "        border: none;\n",
       "        /* Needs to be in here for Safari polyfill so background images work as expected. */\n",
       "        background-size: auto;\n",
       "    }\n",
       "    progress:not([value]), progress:not([value])::-webkit-progress-bar {\n",
       "        background: repeating-linear-gradient(45deg, #7e7e7e, #7e7e7e 10px, #5c5c5c 10px, #5c5c5c 20px);\n",
       "    }\n",
       "    .progress-bar-interrupted, .progress-bar-interrupted::-webkit-progress-bar {\n",
       "        background: #F44336;\n",
       "    }\n",
       "</style>\n"
      ],
      "text/plain": [
       "<IPython.core.display.HTML object>"
      ]
     },
     "metadata": {},
     "output_type": "display_data"
    },
    {
     "data": {
      "text/html": [],
      "text/plain": [
       "<IPython.core.display.HTML object>"
      ]
     },
     "metadata": {},
     "output_type": "display_data"
    },
    {
     "data": {
      "text/plain": [
       "('white_sh', tensor(2), tensor([0.0047, 0.3966, 0.5987]))"
      ]
     },
     "execution_count": 4,
     "metadata": {},
     "output_type": "execute_result"
    }
   ],
   "source": [
    "input_PATH = \"Input/white_shark.jpg\"\n",
    "\n",
    "learner_inf.predict(input_PATH)"
   ]
  },
  {
   "cell_type": "code",
   "execution_count": 5,
   "id": "95640c91",
   "metadata": {},
   "outputs": [],
   "source": [
    "btn_upload = widgets.FileUpload()"
   ]
  },
  {
   "cell_type": "code",
   "execution_count": 6,
   "id": "3a093c82",
   "metadata": {},
   "outputs": [],
   "source": [
    "out_dp = widgets.Output()"
   ]
  },
  {
   "cell_type": "code",
   "execution_count": 7,
   "id": "35c77864",
   "metadata": {},
   "outputs": [],
   "source": [
    "lbl_dp = widgets.Label()"
   ]
  },
  {
   "cell_type": "code",
   "execution_count": 8,
   "id": "8e274212",
   "metadata": {},
   "outputs": [],
   "source": [
    "btn_run = widgets.Button(description= \"Classify\")"
   ]
  },
  {
   "cell_type": "code",
   "execution_count": 9,
   "id": "0a86e442",
   "metadata": {},
   "outputs": [],
   "source": [
    "def on_click_classify(change):\n",
    "    inp_dir_PATH = \"Input/\"\n",
    "    inp_name = btn_upload.value[-1][\"name\"]\n",
    "    inp_PATH = os.path.join(inp_dir_PATH, inp_name)\n",
    "    img = PILImage.create(inp_PATH)\n",
    "    \n",
    "    out_dp.clear_output()\n",
    "    with out_dp:\n",
    "        display(img.to_thumb(224, 224))\n",
    "        \n",
    "    pred, pred_idx, prob = learner_inf.predict(img)\n",
    "    lbl_dp.value = f\"Prediction: {pred}; Probability: {prob[pred_idx]:.4f}\"\n",
    "    \n",
    "btn_run.on_click(on_click_classify)"
   ]
  },
  {
   "cell_type": "code",
   "execution_count": 10,
   "id": "359200fc",
   "metadata": {},
   "outputs": [
    {
     "data": {
      "application/vnd.jupyter.widget-view+json": {
       "model_id": "b87105fa1c85476ab5dfe8e4d52a7c61",
       "version_major": 2,
       "version_minor": 0
      },
      "text/plain": [
       "VBox(children=(Label(value='Select your fish!'), FileUpload(value=(), description='Upload'), Button(descriptio…"
      ]
     },
     "execution_count": 10,
     "metadata": {},
     "output_type": "execute_result"
    }
   ],
   "source": [
    "VBox([widgets.Label(\"Select your fish!\"),\n",
    "     btn_upload, btn_run, out_dp, lbl_dp])"
   ]
  }
 ],
 "metadata": {
  "kernelspec": {
   "display_name": "Python 3 (ipykernel)",
   "language": "python",
   "name": "python3"
  },
  "language_info": {
   "codemirror_mode": {
    "name": "ipython",
    "version": 3
   },
   "file_extension": ".py",
   "mimetype": "text/x-python",
   "name": "python",
   "nbconvert_exporter": "python",
   "pygments_lexer": "ipython3",
   "version": "3.9.1"
  }
 },
 "nbformat": 4,
 "nbformat_minor": 5
}
